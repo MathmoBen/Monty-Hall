{
 "cells": [
  {
   "cell_type": "markdown",
   "id": "f2be0b3c",
   "metadata": {},
   "source": [
    "# Monty Hall Simulation"
   ]
  },
  {
   "cell_type": "markdown",
   "id": "46e49b34",
   "metadata": {},
   "source": [
    "In an effort to test one's ideas about Monty Hall with 4 doors we run a Monte Carlo simulation. In the below, by symmetry we may assume that the prize is always behind door 1."
   ]
  },
  {
   "cell_type": "code",
   "execution_count": 2,
   "id": "811cfa47",
   "metadata": {},
   "outputs": [],
   "source": [
    "# Usual imports\n",
    "\n",
    "import numpy as np\n",
    "import random"
   ]
  },
  {
   "cell_type": "markdown",
   "id": "c1d70935",
   "metadata": {},
   "source": [
    "## 4 doors, Monty opens 1"
   ]
  },
  {
   "cell_type": "markdown",
   "id": "3b4df937",
   "metadata": {},
   "source": [
    "We first suppose that Monty only opens one of the non-prize doors, hopefully finding that 3/8 of the time switching leads to winning."
   ]
  },
  {
   "cell_type": "code",
   "execution_count": 10,
   "id": "5704a0bb",
   "metadata": {},
   "outputs": [
    {
     "data": {
      "text/plain": [
       "3000465"
      ]
     },
     "execution_count": 10,
     "metadata": {},
     "output_type": "execute_result"
    }
   ],
   "source": [
    "n = 8_000_000\n",
    "switch_wins = 0\n",
    "\n",
    "for i in range(n):\n",
    "    doors = [1, 2, 3, 4]\n",
    "    cont_choice = random.choice(doors)\n",
    "    monty_options = [door for door in doors if door != cont_choice and door != 1]\n",
    "    monty_remove = random.choice(monty_options)\n",
    "    cont_options = [door for door in doors if door != cont_choice and door != monty_remove]\n",
    "    final_choice = random.choice(cont_options)\n",
    "    if final_choice == 1:\n",
    "        switch_wins += 1\n",
    "    \n",
    "switch_wins"
   ]
  },
  {
   "cell_type": "code",
   "execution_count": null,
   "id": "32b0c453",
   "metadata": {},
   "outputs": [],
   "source": []
  }
 ],
 "metadata": {
  "kernelspec": {
   "display_name": "Python 3 (ipykernel)",
   "language": "python",
   "name": "python3"
  },
  "language_info": {
   "codemirror_mode": {
    "name": "ipython",
    "version": 3
   },
   "file_extension": ".py",
   "mimetype": "text/x-python",
   "name": "python",
   "nbconvert_exporter": "python",
   "pygments_lexer": "ipython3",
   "version": "3.11.3"
  }
 },
 "nbformat": 4,
 "nbformat_minor": 5
}
