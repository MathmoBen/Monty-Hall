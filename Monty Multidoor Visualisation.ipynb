{
 "cells": [
  {
   "cell_type": "markdown",
   "id": "52945aff",
   "metadata": {},
   "source": [
    "# Monty Hall visualisation"
   ]
  },
  {
   "cell_type": "markdown",
   "id": "c67aaaa6",
   "metadata": {},
   "source": [
    "We try to visualise how sudden the full-off with the probabilities are with (say) 20 doors."
   ]
  },
  {
   "cell_type": "code",
   "execution_count": 1,
   "id": "5157ceff",
   "metadata": {},
   "outputs": [
    {
     "name": "stderr",
     "output_type": "stream",
     "text": [
      "C:\\Users\\Ben Fairbairn\\anaconda3NEW\\Lib\\site-packages\\pandas\\core\\arrays\\masked.py:60: UserWarning: Pandas requires version '1.3.6' or newer of 'bottleneck' (version '1.3.5' currently installed).\n",
      "  from pandas.core import (\n",
      "C:\\Users\\Ben Fairbairn\\AppData\\Local\\Temp\\ipykernel_9676\\1492400551.py:1: DeprecationWarning: \n",
      "Pyarrow will become a required dependency of pandas in the next major release of pandas (pandas 3.0),\n",
      "(to allow more performant data types, such as the Arrow string type, and better interoperability with other libraries)\n",
      "but was not found to be installed on your system.\n",
      "If this would cause problems for you,\n",
      "please provide us feedback at https://github.com/pandas-dev/pandas/issues/54466\n",
      "        \n",
      "  import pandas as pd\n"
     ]
    }
   ],
   "source": [
    "import pandas as pd\n",
    "import matplotlib.pyplot as plt"
   ]
  },
  {
   "cell_type": "code",
   "execution_count": 2,
   "id": "18267c61",
   "metadata": {},
   "outputs": [],
   "source": [
    "probs = [19 / (20 * (19 - i)) for i in range(1,19)]"
   ]
  },
  {
   "cell_type": "code",
   "execution_count": 3,
   "id": "9ae18458",
   "metadata": {},
   "outputs": [],
   "source": [
    "df = pd.DataFrame({'No of doors' : list(range(1,19)), 'probabilities' : probs}, index = list(range(1,19))) "
   ]
  },
  {
   "cell_type": "code",
   "execution_count": 4,
   "id": "da2a27b9",
   "metadata": {},
   "outputs": [
    {
     "data": {
      "text/html": [
       "<div>\n",
       "<style scoped>\n",
       "    .dataframe tbody tr th:only-of-type {\n",
       "        vertical-align: middle;\n",
       "    }\n",
       "\n",
       "    .dataframe tbody tr th {\n",
       "        vertical-align: top;\n",
       "    }\n",
       "\n",
       "    .dataframe thead th {\n",
       "        text-align: right;\n",
       "    }\n",
       "</style>\n",
       "<table border=\"1\" class=\"dataframe\">\n",
       "  <thead>\n",
       "    <tr style=\"text-align: right;\">\n",
       "      <th></th>\n",
       "      <th>No of doors</th>\n",
       "      <th>probabilities</th>\n",
       "    </tr>\n",
       "  </thead>\n",
       "  <tbody>\n",
       "    <tr>\n",
       "      <th>1</th>\n",
       "      <td>1</td>\n",
       "      <td>0.052778</td>\n",
       "    </tr>\n",
       "    <tr>\n",
       "      <th>2</th>\n",
       "      <td>2</td>\n",
       "      <td>0.055882</td>\n",
       "    </tr>\n",
       "    <tr>\n",
       "      <th>3</th>\n",
       "      <td>3</td>\n",
       "      <td>0.059375</td>\n",
       "    </tr>\n",
       "    <tr>\n",
       "      <th>4</th>\n",
       "      <td>4</td>\n",
       "      <td>0.063333</td>\n",
       "    </tr>\n",
       "    <tr>\n",
       "      <th>5</th>\n",
       "      <td>5</td>\n",
       "      <td>0.067857</td>\n",
       "    </tr>\n",
       "    <tr>\n",
       "      <th>6</th>\n",
       "      <td>6</td>\n",
       "      <td>0.073077</td>\n",
       "    </tr>\n",
       "    <tr>\n",
       "      <th>7</th>\n",
       "      <td>7</td>\n",
       "      <td>0.079167</td>\n",
       "    </tr>\n",
       "    <tr>\n",
       "      <th>8</th>\n",
       "      <td>8</td>\n",
       "      <td>0.086364</td>\n",
       "    </tr>\n",
       "    <tr>\n",
       "      <th>9</th>\n",
       "      <td>9</td>\n",
       "      <td>0.095000</td>\n",
       "    </tr>\n",
       "    <tr>\n",
       "      <th>10</th>\n",
       "      <td>10</td>\n",
       "      <td>0.105556</td>\n",
       "    </tr>\n",
       "    <tr>\n",
       "      <th>11</th>\n",
       "      <td>11</td>\n",
       "      <td>0.118750</td>\n",
       "    </tr>\n",
       "    <tr>\n",
       "      <th>12</th>\n",
       "      <td>12</td>\n",
       "      <td>0.135714</td>\n",
       "    </tr>\n",
       "    <tr>\n",
       "      <th>13</th>\n",
       "      <td>13</td>\n",
       "      <td>0.158333</td>\n",
       "    </tr>\n",
       "    <tr>\n",
       "      <th>14</th>\n",
       "      <td>14</td>\n",
       "      <td>0.190000</td>\n",
       "    </tr>\n",
       "    <tr>\n",
       "      <th>15</th>\n",
       "      <td>15</td>\n",
       "      <td>0.237500</td>\n",
       "    </tr>\n",
       "    <tr>\n",
       "      <th>16</th>\n",
       "      <td>16</td>\n",
       "      <td>0.316667</td>\n",
       "    </tr>\n",
       "    <tr>\n",
       "      <th>17</th>\n",
       "      <td>17</td>\n",
       "      <td>0.475000</td>\n",
       "    </tr>\n",
       "    <tr>\n",
       "      <th>18</th>\n",
       "      <td>18</td>\n",
       "      <td>0.950000</td>\n",
       "    </tr>\n",
       "  </tbody>\n",
       "</table>\n",
       "</div>"
      ],
      "text/plain": [
       "    No of doors  probabilities\n",
       "1             1       0.052778\n",
       "2             2       0.055882\n",
       "3             3       0.059375\n",
       "4             4       0.063333\n",
       "5             5       0.067857\n",
       "6             6       0.073077\n",
       "7             7       0.079167\n",
       "8             8       0.086364\n",
       "9             9       0.095000\n",
       "10           10       0.105556\n",
       "11           11       0.118750\n",
       "12           12       0.135714\n",
       "13           13       0.158333\n",
       "14           14       0.190000\n",
       "15           15       0.237500\n",
       "16           16       0.316667\n",
       "17           17       0.475000\n",
       "18           18       0.950000"
      ]
     },
     "execution_count": 4,
     "metadata": {},
     "output_type": "execute_result"
    }
   ],
   "source": [
    "df"
   ]
  },
  {
   "cell_type": "code",
   "execution_count": 5,
   "id": "532bd2ba",
   "metadata": {},
   "outputs": [
    {
     "name": "stderr",
     "output_type": "stream",
     "text": [
      "UsageError: Line magic function `%ax.grid()` not found.\n"
     ]
    },
    {
     "data": {
      "image/png": "[encoded data removed]",
      "text/plain": [
       "<Figure size 640x480 with 1 Axes>"
      ]
     },
     "metadata": {},
     "output_type": "display_data"
    }
   ],
   "source": [
    "fig, ax = plt.subplots()\n",
    "\n",
    "plt.scatter(df['No of doors'], df['probabilities'], c='green')\n",
    "plt.plot(df['No of doors'], [0.5 for i in range(1,19)], c='grey')\n",
    "\n",
    "\n",
    "%ax.grid()\n",
    "\n",
    "plt.title('The probailities as Monty opens more of the 20 doors')\n",
    "plt.ylabel('probability')\n",
    "plt.xlabel('Number of doors')\n",
    "plt.show()"
   ]
  },
  {
   "cell_type": "markdown",
   "id": "71662d41",
   "metadata": {},
   "source": [
    "For comparison we do the same thing with 100 doors instead."
   ]
  },
  {
   "cell_type": "code",
   "execution_count": 6,
   "id": "70e0cbe3",
   "metadata": {},
   "outputs": [],
   "source": [
    "probs = [99 / (100 * (99 - i)) for i in range(1,99)]"
   ]
  },
  {
   "cell_type": "code",
   "execution_count": 7,
   "id": "ea8a70ab",
   "metadata": {},
   "outputs": [],
   "source": [
    "df100 = pd.DataFrame({'No of doors' : list(range(1,99)), 'probabilities' : probs}, index = list(range(1,99))) "
   ]
  },
  {
   "cell_type": "code",
   "execution_count": 8,
   "id": "c5f68dcc",
   "metadata": {},
   "outputs": [
    {
     "data": {
      "image/png": "[encoded data removed]",
      "text/plain": [
       "<Figure size 640x480 with 1 Axes>"
      ]
     },
     "metadata": {},
     "output_type": "display_data"
    }
   ],
   "source": [
    "fig, ax = plt.subplots()\n",
    "\n",
    "plt.scatter(df100['No of doors'], df100['probabilities'], c='green')\n",
    "plt.plot(df100['No of doors'], [0.5 for i in range(1,99)], c='grey')\n",
    "\n",
    "plt.title('The probailities as Monty opens more of the 100 doors')\n",
    "plt.ylabel('probability')\n",
    "plt.xlabel('Number of doors')\n",
    "plt.show()"
   ]
  },
  {
   "cell_type": "code",
   "execution_count": null,
   "id": "c72c494f",
   "metadata": {},
   "outputs": [],
   "source": []
  }
 ],
 "metadata": {
  "kernelspec": {
   "display_name": "Python 3 (ipykernel)",
   "language": "python",
   "name": "python3"
  },
  "language_info": {
   "codemirror_mode": {
    "name": "ipython",
    "version": 3
   },
   "file_extension": ".py",
   "mimetype": "text/x-python",
   "name": "python",
   "nbconvert_exporter": "python",
   "pygments_lexer": "ipython3",
   "version": "3.11.3"
  }
 },
 "nbformat": 4,
 "nbformat_minor": 5
}
